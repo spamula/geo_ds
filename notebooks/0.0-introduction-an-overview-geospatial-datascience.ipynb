{
 "cells": [
  {
   "cell_type": "markdown",
   "id": "771169a1",
   "metadata": {},
   "source": [
    "<header style=\"background-color: black; color: white; font-size: 24pt; font-family: 'Helvetica', sans-serif; font-weight: bold; text-align: center; padding: 20px\">Introduction to Geospatial Data Science</header>\n",
    "\n",
    "<table style=\"width:100%;\">\n",
    "  <tr>\n",
    "    <td style=\"width:33.33%; text-align:center;\"><img src=\"data:image/png;base64,iVBORw0KGgoAAAANSUhEUgAAAMgAAADICAMAAACahl6sAAAAflBMVEX///8AAACvr6/T09NLS0sbGxuLi4tjY2OPj4/n5+dfX1+Hh4dXV1dHR0fv7+/f398lJSVvb28SEhL4+PggICC1tbVZWVl+fn5ra2tRUVHJyclBQUEwMDA8PDx/f38ICAibm5va2toqKiqmpqYWFha9vb02NjbKysqWlpahoaGfoHA2AAAC6UlEQVR4nO3da1PiMBSAYQICUq6l3O8orvr//+DiLKXdmeSAcpII8z6fz8S+LogkbK1UAAAAAAAAAAAAgLuSVdPloO7XaNVp7P1m9KZDE8h67LGjegiV8WXe89UxDZlxVK/56UgDdxgz9PJM+QjeYczAw6Orv40QYpr6IZ0YHcaoP032cTrMRDtkEylkq/0s+RMpxGi/LkZ5qn/Z6Ha0YnWYRDekFi1k/ighT4QQQgghhBBCCCGE3GNIp/Fs1yzetBxSx0y79A5t2XYMpcMQIcJbtlp+ASvhDep5e6ztnmkN/IeIuwH5XuSbMJPV/828SAtV/YcI38fi64s7Bt3TI1Sa6RNyASEWhGggxIIQDYRYEKKBEAtCNBBiQYgGQiwI0UCIxfKKkL3/kK40NjsNVYWZ3mnzq54JQzv/IdI/yWs+I3z2rTfPhxJ3yWIYIMQMJondqjS0dMzMS7uhh45jaF1aiE1sQgghhJBHC5m3G3ZJ+ejNMbMpHb2tN46hWeyjt/e8hKO3HEdvlxBiQYgGQiwI0UCIBSEaCLEgRAMhFoRoIMSCEA2EWDxMCEdvGkobdA331L0dvSVNq/+O3rr2mWantBtanziGlqWF2MQmhBBCCHmwkPXCOXR+rTPTlmMmK25tNRq7XhFbaYCQkfSbRf4hkukVS237wtDMf4h0jZXP05B0jfm9YsQrrPkP4df4M0I0EGJBiAZCLAjRQIgFIRoIsSBEAyEWhGh4mJB9tBBx7PuyaCHpTy5XMLpq4fygSbwp9+kYZSnNLM4hu+9fqyjJFz64tt6OsvyoZyas9Jav9C4MFTeu1r5R+fi88uC137IbFx/gT94dM/vG+X8CDD9cCy2KLcuVckelUnzsPqidesjr5S/qwYu0QftDTzFCnBvmN+hFeHA9e+g4/mwPXiJumN+g1Q2asf301HG0q4frmItnE7fKPrtB7iA/SD397ZFyy/6t6td44e1vwQAAAAAAAAAAAOC3+QtVy1ZKkqBeZwAAAABJRU5ErkJggg==\" alt=\"Data\" style=\"width:100%;\"></td>\n",
    "    <td style=\"width:33.33%; text-align:center;\"><img src=\"data:image/png;base64,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\" alt=\"Map\" style=\"width:100%;\"></td>\n",
    "    <td style=\"width:33.33%; text-align:center;\"><img src=\"data:image/png;base64,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\" alt=\"Python\" style=\"width:100%;\"></td>\n",
    "  </tr>\n",
    "</table>\n",
    "\n",
    "---"
   ]
  },
  {
   "cell_type": "markdown",
   "id": "5b567a10",
   "metadata": {
    "toc": true
   },
   "source": [
    "<h1>Table of Contents<span class=\"tocSkip\"></span></h1>\n",
    "<div class=\"toc\"><ul class=\"toc-item\"><li><span><a href=\"#What-is-it?\" data-toc-modified-id=\"What-is-it?-1\"><span class=\"toc-item-num\">1&nbsp;&nbsp;</span>What is it?</a></span></li><li><span><a href=\"#Key-Concepts\" data-toc-modified-id=\"Key-Concepts-2\"><span class=\"toc-item-num\">2&nbsp;&nbsp;</span>Key Concepts</a></span></li></ul></div>"
   ]
  },
  {
   "cell_type": "markdown",
   "id": "a42cb70a",
   "metadata": {},
   "source": [
    "## What is it?\n",
    "Geospatial data science is a field that combines the principles of geography, data science, and computer science to analyze and understand patterns and relationships within geographic data.\n",
    "\n",
    "It involves the use of geographic information systems (GIS) and other geospatial technologies to analyze and visualize geographic data, extract insights, and make informed decisions. This data can come in many forms, including satellite imagery, GPS data, and demographic data, among others.\n",
    "\n",
    "Geospatial data science plays a crucial role in a wide range of industries, including transportation, agriculture, urban planning, environmental management, and natural resource management. It is used to study and understand the relationships between physical features, such as rivers and roads, and human activity, such as demographics and land use. The field of geospatial data science is constantly evolving, driven by advances in technology and increased availability of data, which has led to new opportunities for exploration and analysis.\n"
   ]
  },
  {
   "cell_type": "markdown",
   "id": "667a9509",
   "metadata": {},
   "source": [
    "---"
   ]
  },
  {
   "cell_type": "markdown",
   "id": "40375f36",
   "metadata": {},
   "source": [
    "## Key Concepts"
   ]
  },
  {
   "cell_type": "markdown",
   "id": "f32144a0",
   "metadata": {},
   "source": [
    "<table><thead><tr><th>Concept</th><th>Description</th><th>Key Libraries</th></tr></thead><tbody><tr><td>Geographic Information Systems (GIS)</td><td>The foundation of geospatial data science, involving the use of digital maps, spatial databases, and other geospatial tools to manage and analyze geographic data.</td><td><a href=\"https://www.arcgis.com/\" target=\"_new\">ArcGIS</a>, <a href=\"https://qgis.org/en/site/\" target=\"_new\">QGIS</a>, <a href=\"https://github.com/geopandas/geopandas\" target=\"_new\">Geopandas</a></td></tr><tr><td>Data Visualization</td><td>Geospatial data visualization is critical for communicating the results of data analysis and presenting insights in a clear and concise manner.</td><td><a href=\"https://github.com/matplotlib/matplotlib\" target=\"_new\">Matplotlib</a>, <a href=\"https://github.com/python-visualization/folium\" target=\"_new\">Folium</a>, <a href=\"https://github.com/plotly/plotly.py\" target=\"_new\">Plotly</a></td></tr><tr><td>Spatial Analysis</td><td>The use of mathematical and statistical methods to analyze patterns and relationships within geographic data.</td><td><a href=\"https://github.com/geopandas/geopandas\" target=\"_new\">Geopandas</a>, <a href=\"https://github.com/pysal/pysal\" target=\"_new\">PySAL</a>, <a href=\"https://github.com/mapbox/rasterio\" target=\"_new\">Rasterio</a></td></tr><tr><td>Geocoding</td><td>The process of converting address information into geographic coordinates, allowing for mapping and spatial analysis.</td><td><a href=\"https://github.com/geopy/geopy\" target=\"_new\">Geopy</a>, <a href=\"https://github.com/thampiman/reverse-geocoder\" target=\"_new\">Reverse Geocoder</a>, <a href=\"https://github.com/DenisCarriere/geocoder\" target=\"_new\">Geocoder</a></td></tr><tr><td>Remote Sensing</td><td>The use of satellite imagery and other remote sensing technologies to gather information about the Earth's surface and make informed decisions.</td><td><a href=\"https://github.com/mapbox/rasterio\" target=\"_new\">Rasterio</a>, <a href=\"https://github.com/planetlabs/planet-client-python\" target=\"_new\">Planet API</a>, <a href=\"https://github.com/OSGeo/gdal\" target=\"_new\">GDAL</a></td></tr><tr><td>Satellite Imagery Processing</td><td>The processing and analysis of satellite imagery, such as digital elevation models, land use/land cover maps, and vegetation index.</td><td><a href=\"https://github.com/mapbox/rasterio\" target=\"_new\">Rasterio</a>, <a href=\"https://github.com/numpy/numpy\" target=\"_new\">Numpy</a>, <a href=\"https://github.com/scipy/scipy\" target=\"_new\">Scipy</a>, <a href=\"https://github.com/google/earthengine-api\" target=\"_new\">earthengine-api</a>, <a href=\"https://github.com/planetlabs/planet-client-python\" target=\"_new\">planet-api-python</a></td></tr><tr><td>Network Analysis</td><td>The analysis of the relationships and flows between objects within a network, such as roads, waterways, and electrical grids.</td><td><a href=\"https://github.com/networkx/networkx\" target=\"_new\">NetworkX</a>, <a href=\"https://github.com/gboeing/osmnx\" target=\"_new\">OSMNX</a></td></tr><tr><td>Machine Learning for Geospatial Data</td><td>The application of machine learning algorithms to geospatial data to make predictions, identify patterns, and extract insights.</td><td><a href=\"https://github.com/tensorflow/tensorflow\" target=\"_new\">TensorFlow</a>, <a href=\"https://github.com/pytorch/pytorch\" target=\"_new\">PyTorch</a>, <a href='https://github.com/scikit-learn/scikit-learn', target=\"_new\">Sci-kit Learn</a></td></tr><tr><td>Web Mapping</td><td>The creation of interactive web maps, which can be used to visualize and share geographic data.</td><td><a href=\"https://python-visualization.github.io/folium/\", target=\"_new\">Folium</a>, <a href=\"https://leafletjs.com/\">Leaflet</a>, <a href=\"https://geemap.org/\", target=\"_new\">geemap</a></td></tr><tr><td>Geospatial Data Management and Data Wrangling</td><td>The acquisition, cleaning, and pre-processing of geospatial data, making it ready for analysis and visualization. This also involves managing geospatial databases, such as PostgreSQL with the PostGIS extension, Google BigQuery, and Microsoft Azure CosmosDB.</td><td><a href=\"https://github.com/geopandas/geopandas\" target=\"_new\">Geopandas</a>, <a href=\"https://pandas.pydata.org/\", target=\"_new\">Pandas</a>, <a href=\"https://github.com/Toblerity/Fiona\", target=\"_new\">Fiona</a>, <a href=\"https://postgis.net/\", target=\"_new\">PostGIS</a>, <a href=\"https://cloud.google.com/bigquery/docs/geospatial-data\", target=\"_new\">Google BigQuery</a></td></tr></tbody></table>\n",
    "</tbody></table>"
   ]
  },
  {
   "cell_type": "markdown",
   "id": "dbb79974",
   "metadata": {},
   "source": [
    "---"
   ]
  }
 ],
 "metadata": {
  "kernelspec": {
   "display_name": "Python 3 (ipykernel)",
   "language": "python",
   "name": "python3"
  },
  "language_info": {
   "codemirror_mode": {
    "name": "ipython",
    "version": 3
   },
   "file_extension": ".py",
   "mimetype": "text/x-python",
   "name": "python",
   "nbconvert_exporter": "python",
   "pygments_lexer": "ipython3",
   "version": "3.9.6 (default, Sep 26 2022, 11:37:49) \n[Clang 14.0.0 (clang-1400.0.29.202)]"
  },
  "toc": {
   "base_numbering": 1,
   "nav_menu": {},
   "number_sections": true,
   "sideBar": true,
   "skip_h1_title": true,
   "title_cell": "Table of Contents",
   "title_sidebar": "Contents",
   "toc_cell": true,
   "toc_position": {},
   "toc_section_display": true,
   "toc_window_display": true
  },
  "varInspector": {
   "cols": {
    "lenName": 16,
    "lenType": 16,
    "lenVar": 40
   },
   "kernels_config": {
    "python": {
     "delete_cmd_postfix": "",
     "delete_cmd_prefix": "del ",
     "library": "var_list.py",
     "varRefreshCmd": "print(var_dic_list())"
    },
    "r": {
     "delete_cmd_postfix": ") ",
     "delete_cmd_prefix": "rm(",
     "library": "var_list.r",
     "varRefreshCmd": "cat(var_dic_list()) "
    }
   },
   "types_to_exclude": [
    "module",
    "function",
    "builtin_function_or_method",
    "instance",
    "_Feature"
   ],
   "window_display": false
  },
  "vscode": {
   "interpreter": {
    "hash": "31f2aee4e71d21fbe5cf8b01ff0e069b9275f58929596ceb00d14d90e3e16cd6"
   }
  }
 },
 "nbformat": 4,
 "nbformat_minor": 5
}
